{
 "cells": [
  {
   "cell_type": "code",
   "execution_count": 45,
   "id": "d2b4f1c1",
   "metadata": {
    "scrolled": false
   },
   "outputs": [
    {
     "name": "stdout",
     "output_type": "stream",
     "text": [
      "     연도    남성    여성    전체\n",
      "0  2008  31.6  29.3  30.4\n",
      "1  2009  32.0  30.3  31.1\n",
      "2  2010  30.1  29.0  29.5\n"
     ]
    }
   ],
   "source": [
    "import pandas as pd\n",
    "df=pd.read_csv(r'스트레스인지율1.csv', encoding='utf-8')\n",
    "print(df.head(3))"
   ]
  },
  {
   "cell_type": "code",
   "execution_count": 46,
   "id": "af2b849d",
   "metadata": {},
   "outputs": [
    {
     "name": "stdout",
     "output_type": "stream",
     "text": [
      "      연도    남성    여성    전체\n",
      "12  2020  26.3  29.2  27.8\n",
      "13  2021  24.5  27.9  26.3\n",
      "14  2022  22.7  25.2  24.0\n"
     ]
    }
   ],
   "source": [
    "print(df.tail(3))"
   ]
  },
  {
   "cell_type": "code",
   "execution_count": 47,
   "id": "ee429da6",
   "metadata": {},
   "outputs": [
    {
     "name": "stdout",
     "output_type": "stream",
     "text": [
      "<class 'pandas.core.frame.DataFrame'>\n",
      "RangeIndex: 15 entries, 0 to 14\n",
      "Data columns (total 4 columns):\n",
      " #   Column  Non-Null Count  Dtype  \n",
      "---  ------  --------------  -----  \n",
      " 0   연도      15 non-null     int64  \n",
      " 1   남성      15 non-null     float64\n",
      " 2   여성      15 non-null     float64\n",
      " 3   전체      15 non-null     float64\n",
      "dtypes: float64(3), int64(1)\n",
      "memory usage: 612.0 bytes\n",
      "None\n"
     ]
    }
   ],
   "source": [
    "print(df.info())  # 결측치 확인"
   ]
  },
  {
   "cell_type": "code",
   "execution_count": 48,
   "id": "e8dfffb7",
   "metadata": {},
   "outputs": [
    {
     "data": {
      "text/plain": [
       "연도    0\n",
       "남성    0\n",
       "여성    0\n",
       "전체    0\n",
       "dtype: int64"
      ]
     },
     "execution_count": 48,
     "metadata": {},
     "output_type": "execute_result"
    }
   ],
   "source": [
    "df.isna().sum()  # 결측치가 없는것으로 확인됨"
   ]
  },
  {
   "cell_type": "code",
   "execution_count": 49,
   "id": "1b0971c3",
   "metadata": {
    "scrolled": true
   },
   "outputs": [
    {
     "data": {
      "text/html": [
       "<div>\n",
       "<style scoped>\n",
       "    .dataframe tbody tr th:only-of-type {\n",
       "        vertical-align: middle;\n",
       "    }\n",
       "\n",
       "    .dataframe tbody tr th {\n",
       "        vertical-align: top;\n",
       "    }\n",
       "\n",
       "    .dataframe thead th {\n",
       "        text-align: right;\n",
       "    }\n",
       "</style>\n",
       "<table border=\"1\" class=\"dataframe\">\n",
       "  <thead>\n",
       "    <tr style=\"text-align: right;\">\n",
       "      <th></th>\n",
       "      <th>연도</th>\n",
       "      <th>남성</th>\n",
       "      <th>여성</th>\n",
       "      <th>전체</th>\n",
       "    </tr>\n",
       "  </thead>\n",
       "  <tbody>\n",
       "    <tr>\n",
       "      <th>count</th>\n",
       "      <td>15.000000</td>\n",
       "      <td>15.000000</td>\n",
       "      <td>15.000000</td>\n",
       "      <td>15.000000</td>\n",
       "    </tr>\n",
       "    <tr>\n",
       "      <th>mean</th>\n",
       "      <td>2015.000000</td>\n",
       "      <td>28.113333</td>\n",
       "      <td>28.826667</td>\n",
       "      <td>28.473333</td>\n",
       "    </tr>\n",
       "    <tr>\n",
       "      <th>std</th>\n",
       "      <td>4.472136</td>\n",
       "      <td>2.986844</td>\n",
       "      <td>1.565004</td>\n",
       "      <td>2.161833</td>\n",
       "    </tr>\n",
       "    <tr>\n",
       "      <th>min</th>\n",
       "      <td>2008.000000</td>\n",
       "      <td>22.700000</td>\n",
       "      <td>25.200000</td>\n",
       "      <td>24.000000</td>\n",
       "    </tr>\n",
       "    <tr>\n",
       "      <th>25%</th>\n",
       "      <td>2011.500000</td>\n",
       "      <td>25.900000</td>\n",
       "      <td>27.800000</td>\n",
       "      <td>26.600000</td>\n",
       "    </tr>\n",
       "    <tr>\n",
       "      <th>50%</th>\n",
       "      <td>2015.000000</td>\n",
       "      <td>29.300000</td>\n",
       "      <td>29.000000</td>\n",
       "      <td>29.100000</td>\n",
       "    </tr>\n",
       "    <tr>\n",
       "      <th>75%</th>\n",
       "      <td>2018.500000</td>\n",
       "      <td>30.200000</td>\n",
       "      <td>29.900000</td>\n",
       "      <td>30.350000</td>\n",
       "    </tr>\n",
       "    <tr>\n",
       "      <th>max</th>\n",
       "      <td>2022.000000</td>\n",
       "      <td>32.000000</td>\n",
       "      <td>31.000000</td>\n",
       "      <td>31.100000</td>\n",
       "    </tr>\n",
       "  </tbody>\n",
       "</table>\n",
       "</div>"
      ],
      "text/plain": [
       "                연도         남성         여성         전체\n",
       "count    15.000000  15.000000  15.000000  15.000000\n",
       "mean   2015.000000  28.113333  28.826667  28.473333\n",
       "std       4.472136   2.986844   1.565004   2.161833\n",
       "min    2008.000000  22.700000  25.200000  24.000000\n",
       "25%    2011.500000  25.900000  27.800000  26.600000\n",
       "50%    2015.000000  29.300000  29.000000  29.100000\n",
       "75%    2018.500000  30.200000  29.900000  30.350000\n",
       "max    2022.000000  32.000000  31.000000  31.100000"
      ]
     },
     "execution_count": 49,
     "metadata": {},
     "output_type": "execute_result"
    }
   ],
   "source": [
    "df.describe()  # 각 년도.1의 열과 조율(%)을 사용하여 스트레스 인지율 분석하기"
   ]
  },
  {
   "cell_type": "code",
   "execution_count": 50,
   "id": "35c5effa",
   "metadata": {},
   "outputs": [
    {
     "name": "stdout",
     "output_type": "stream",
     "text": [
      "     연도    남성    여성    전체\n",
      "0  2008  31.6  29.3  30.4\n",
      "1  2009  32.0  30.3  31.1\n",
      "2  2010  30.1  29.0  29.5\n"
     ]
    }
   ],
   "source": [
    "import matplotlib.pyplot as plt\n",
    "import numpy as np\n",
    "import pandas as pd\n",
    "import seaborn as sns\n",
    "\n",
    "print(df.head(3))"
   ]
  },
  {
   "cell_type": "code",
   "execution_count": 51,
   "id": "5ad24027",
   "metadata": {},
   "outputs": [
    {
     "data": {
      "image/png": "[encoded data removed]",
      "text/plain": [
       "<Figure size 640x480 with 1 Axes>"
      ]
     },
     "metadata": {},
     "output_type": "display_data"
    }
   ],
   "source": [
    "plt.plot(df['연도'],df['전체'],color='blue', linestyle='-')\n",
    "plt.xlabel('Year')\n",
    "plt.ylabel('Population')\n",
    "plt.show()"
   ]
  },
  {
   "cell_type": "code",
   "execution_count": 52,
   "id": "f40cf5bb",
   "metadata": {},
   "outputs": [
    {
     "name": "stderr",
     "output_type": "stream",
     "text": [
      "C:\\anaconda3\\Lib\\site-packages\\seaborn\\axisgrid.py:118: UserWarning: The figure layout has changed to tight\n",
      "  self._figure.tight_layout(*args, **kwargs)\n"
     ]
    },
    {
     "data": {
      "image/png": "[encoded data removed]",
      "text/plain": [
       "<Figure size 1000x1000 with 20 Axes>"
      ]
     },
     "metadata": {},
     "output_type": "display_data"
    }
   ],
   "source": [
    "# scatterplot matrix with histogram only for continuous variables\n",
    "\n",
    "sns.pairplot(df, diag_kind='hist')\n",
    "\n",
    "plt.show()"
   ]
  },
  {
   "cell_type": "code",
   "execution_count": 53,
   "id": "87430319",
   "metadata": {},
   "outputs": [
    {
     "name": "stdout",
     "output_type": "stream",
     "text": [
      "  죄종별               항목 단위         2011 년    2012 년    2013 년    2014 년  \\\n",
      "0  총계          발생건수[건]  건  358620.000000  358534.0  368583.0  355991.0   \n",
      "1  총계          검거건수[건]  건  273089.000000  260199.0  265023.0  258863.0   \n",
      "2  총계  발생건수 대비 검거건수[%]  %      76.149964      72.6      71.9      72.7   \n",
      "\n",
      "     2015 년    2016 년  2017 년    2018 년    2019 년    2020 년    2021 년  \\\n",
      "0  356575.0  343104.0  320193  308997.0  309269.0  296178.0  257969.0   \n",
      "1  265788.0  267282.0  253081  239291.0  235360.0  219684.0  189140.0   \n",
      "2      74.5      77.9      79      77.4      76.1      74.2      73.3   \n",
      "\n",
      "     2022 년  \n",
      "0  279507.0  \n",
      "1  192540.0  \n",
      "2      68.9  \n"
     ]
    }
   ],
   "source": [
    "import pandas as pd\n",
    "pf=pd.read_csv('범죄건수.csv', encoding='utf-8')\n",
    "print(pf.head(3))"
   ]
  },
  {
   "cell_type": "code",
   "execution_count": 54,
   "id": "d04de6f5",
   "metadata": {},
   "outputs": [
    {
     "data": {
      "text/plain": [
       "Index(['죄종별', '항목', '단위', '2011 년', '2012 년', '2013 년', '2014 년', '2015 년',\n",
       "       '2016 년', '2017 년', '2018 년', '2019 년', '2020 년', '2021 년', '2022 년'],\n",
       "      dtype='object')"
      ]
     },
     "execution_count": 54,
     "metadata": {},
     "output_type": "execute_result"
    }
   ],
   "source": [
    "pf.columns"
   ]
  },
  {
   "cell_type": "code",
   "execution_count": 55,
   "id": "e0efd44c",
   "metadata": {},
   "outputs": [
    {
     "data": {
      "text/html": [
       "<div>\n",
       "<style scoped>\n",
       "    .dataframe tbody tr th:only-of-type {\n",
       "        vertical-align: middle;\n",
       "    }\n",
       "\n",
       "    .dataframe tbody tr th {\n",
       "        vertical-align: top;\n",
       "    }\n",
       "\n",
       "    .dataframe thead th {\n",
       "        text-align: right;\n",
       "    }\n",
       "</style>\n",
       "<table border=\"1\" class=\"dataframe\">\n",
       "  <thead>\n",
       "    <tr style=\"text-align: right;\">\n",
       "      <th></th>\n",
       "      <th>죄종별</th>\n",
       "      <th>항목</th>\n",
       "      <th>단위</th>\n",
       "      <th>2011 년</th>\n",
       "      <th>2012 년</th>\n",
       "      <th>2013 년</th>\n",
       "      <th>2014 년</th>\n",
       "      <th>2015 년</th>\n",
       "      <th>2016 년</th>\n",
       "      <th>2017 년</th>\n",
       "      <th>2018 년</th>\n",
       "      <th>2019 년</th>\n",
       "      <th>2020 년</th>\n",
       "      <th>2021 년</th>\n",
       "      <th>2022 년</th>\n",
       "    </tr>\n",
       "  </thead>\n",
       "  <tbody>\n",
       "    <tr>\n",
       "      <th>0</th>\n",
       "      <td>총계</td>\n",
       "      <td>발생건수[건]</td>\n",
       "      <td>건</td>\n",
       "      <td>358620.000000</td>\n",
       "      <td>358534.0</td>\n",
       "      <td>368583.0</td>\n",
       "      <td>355991.0</td>\n",
       "      <td>356575.0</td>\n",
       "      <td>343104.0</td>\n",
       "      <td>320193</td>\n",
       "      <td>308997.0</td>\n",
       "      <td>309269.0</td>\n",
       "      <td>296178.0</td>\n",
       "      <td>257969.0</td>\n",
       "      <td>279507.0</td>\n",
       "    </tr>\n",
       "    <tr>\n",
       "      <th>1</th>\n",
       "      <td>총계</td>\n",
       "      <td>검거건수[건]</td>\n",
       "      <td>건</td>\n",
       "      <td>273089.000000</td>\n",
       "      <td>260199.0</td>\n",
       "      <td>265023.0</td>\n",
       "      <td>258863.0</td>\n",
       "      <td>265788.0</td>\n",
       "      <td>267282.0</td>\n",
       "      <td>253081</td>\n",
       "      <td>239291.0</td>\n",
       "      <td>235360.0</td>\n",
       "      <td>219684.0</td>\n",
       "      <td>189140.0</td>\n",
       "      <td>192540.0</td>\n",
       "    </tr>\n",
       "    <tr>\n",
       "      <th>2</th>\n",
       "      <td>총계</td>\n",
       "      <td>발생건수 대비 검거건수[%]</td>\n",
       "      <td>%</td>\n",
       "      <td>76.149964</td>\n",
       "      <td>72.6</td>\n",
       "      <td>71.9</td>\n",
       "      <td>72.7</td>\n",
       "      <td>74.5</td>\n",
       "      <td>77.9</td>\n",
       "      <td>79</td>\n",
       "      <td>77.4</td>\n",
       "      <td>76.1</td>\n",
       "      <td>74.2</td>\n",
       "      <td>73.3</td>\n",
       "      <td>68.9</td>\n",
       "    </tr>\n",
       "    <tr>\n",
       "      <th>3</th>\n",
       "      <td>총계</td>\n",
       "      <td>검거인원[명]</td>\n",
       "      <td>명</td>\n",
       "      <td>428258.000000</td>\n",
       "      <td>410864.0</td>\n",
       "      <td>413079.0</td>\n",
       "      <td>398304.0</td>\n",
       "      <td>393805.0</td>\n",
       "      <td>388136.0</td>\n",
       "      <td>358515</td>\n",
       "      <td>350388.0</td>\n",
       "      <td>346844.0</td>\n",
       "      <td>326217.0</td>\n",
       "      <td>263634.0</td>\n",
       "      <td>276483.0</td>\n",
       "    </tr>\n",
       "    <tr>\n",
       "      <th>4</th>\n",
       "      <td>총계</td>\n",
       "      <td>남자검거인원[명]</td>\n",
       "      <td>명</td>\n",
       "      <td>332227.000000</td>\n",
       "      <td>313851.0</td>\n",
       "      <td>315728.0</td>\n",
       "      <td>299752.0</td>\n",
       "      <td>290952.0</td>\n",
       "      <td>292002.0</td>\n",
       "      <td>266660</td>\n",
       "      <td>253818.0</td>\n",
       "      <td>245621.0</td>\n",
       "      <td>227766.0</td>\n",
       "      <td>185176.0</td>\n",
       "      <td>194676.0</td>\n",
       "    </tr>\n",
       "    <tr>\n",
       "      <th>5</th>\n",
       "      <td>총계</td>\n",
       "      <td>여자검거인원[명]</td>\n",
       "      <td>명</td>\n",
       "      <td>75091.000000</td>\n",
       "      <td>71337.0</td>\n",
       "      <td>69963.0</td>\n",
       "      <td>68379.0</td>\n",
       "      <td>69054.0</td>\n",
       "      <td>70480.0</td>\n",
       "      <td>66579</td>\n",
       "      <td>66836.0</td>\n",
       "      <td>69839.0</td>\n",
       "      <td>64326.0</td>\n",
       "      <td>55666.0</td>\n",
       "      <td>59855.0</td>\n",
       "    </tr>\n",
       "    <tr>\n",
       "      <th>6</th>\n",
       "      <td>총계</td>\n",
       "      <td>불상검거인원[명]</td>\n",
       "      <td>명</td>\n",
       "      <td>20940.000000</td>\n",
       "      <td>25676.0</td>\n",
       "      <td>27388.0</td>\n",
       "      <td>30173.0</td>\n",
       "      <td>33799.0</td>\n",
       "      <td>25654.0</td>\n",
       "      <td>25276</td>\n",
       "      <td>29734.0</td>\n",
       "      <td>31384.0</td>\n",
       "      <td>34125.0</td>\n",
       "      <td>22792.0</td>\n",
       "      <td>21952.0</td>\n",
       "    </tr>\n",
       "    <tr>\n",
       "      <th>7</th>\n",
       "      <td>총계</td>\n",
       "      <td>법인체[개]</td>\n",
       "      <td>개</td>\n",
       "      <td>NaN</td>\n",
       "      <td>2601.0</td>\n",
       "      <td>2796.0</td>\n",
       "      <td>2660.0</td>\n",
       "      <td>2630.0</td>\n",
       "      <td>2674.0</td>\n",
       "      <td>2577</td>\n",
       "      <td>2611.0</td>\n",
       "      <td>2323.0</td>\n",
       "      <td>2416.0</td>\n",
       "      <td>1937.0</td>\n",
       "      <td>2061.0</td>\n",
       "    </tr>\n",
       "  </tbody>\n",
       "</table>\n",
       "</div>"
      ],
      "text/plain": [
       "  죄종별               항목 단위         2011 년    2012 년    2013 년    2014 년  \\\n",
       "0  총계          발생건수[건]  건  358620.000000  358534.0  368583.0  355991.0   \n",
       "1  총계          검거건수[건]  건  273089.000000  260199.0  265023.0  258863.0   \n",
       "2  총계  발생건수 대비 검거건수[%]  %      76.149964      72.6      71.9      72.7   \n",
       "3  총계          검거인원[명]  명  428258.000000  410864.0  413079.0  398304.0   \n",
       "4  총계        남자검거인원[명]  명  332227.000000  313851.0  315728.0  299752.0   \n",
       "5  총계        여자검거인원[명]  명   75091.000000   71337.0   69963.0   68379.0   \n",
       "6  총계        불상검거인원[명]  명   20940.000000   25676.0   27388.0   30173.0   \n",
       "7  총계           법인체[개]  개            NaN    2601.0    2796.0    2660.0   \n",
       "\n",
       "     2015 년    2016 년  2017 년    2018 년    2019 년    2020 년    2021 년  \\\n",
       "0  356575.0  343104.0  320193  308997.0  309269.0  296178.0  257969.0   \n",
       "1  265788.0  267282.0  253081  239291.0  235360.0  219684.0  189140.0   \n",
       "2      74.5      77.9      79      77.4      76.1      74.2      73.3   \n",
       "3  393805.0  388136.0  358515  350388.0  346844.0  326217.0  263634.0   \n",
       "4  290952.0  292002.0  266660  253818.0  245621.0  227766.0  185176.0   \n",
       "5   69054.0   70480.0   66579   66836.0   69839.0   64326.0   55666.0   \n",
       "6   33799.0   25654.0   25276   29734.0   31384.0   34125.0   22792.0   \n",
       "7    2630.0    2674.0    2577    2611.0    2323.0    2416.0    1937.0   \n",
       "\n",
       "     2022 년  \n",
       "0  279507.0  \n",
       "1  192540.0  \n",
       "2      68.9  \n",
       "3  276483.0  \n",
       "4  194676.0  \n",
       "5   59855.0  \n",
       "6   21952.0  \n",
       "7    2061.0  "
      ]
     },
     "execution_count": 55,
     "metadata": {},
     "output_type": "execute_result"
    }
   ],
   "source": [
    "# pf.drop('단위', axis=1, inplace=True)  '단위'열 자른 것을 아예 pf에 덮어씌움 -- inplace=True\n",
    "pf"
   ]
  },
  {
   "cell_type": "code",
   "execution_count": 56,
   "id": "65c10e47",
   "metadata": {},
   "outputs": [
    {
     "data": {
      "text/plain": [
       "죄종별       0\n",
       "항목        0\n",
       "단위        0\n",
       "2011 년    1\n",
       "2012 년    0\n",
       "2013 년    0\n",
       "2014 년    0\n",
       "2015 년    0\n",
       "2016 년    0\n",
       "2017 년    0\n",
       "2018 년    0\n",
       "2019 년    0\n",
       "2020 년    0\n",
       "2021 년    0\n",
       "2022 년    0\n",
       "dtype: int64"
      ]
     },
     "execution_count": 56,
     "metadata": {},
     "output_type": "execute_result"
    }
   ],
   "source": [
    "pf.isna().sum()"
   ]
  },
  {
   "cell_type": "code",
   "execution_count": 57,
   "id": "4903e15b",
   "metadata": {},
   "outputs": [
    {
     "name": "stdout",
     "output_type": "stream",
     "text": [
      "2011 년    358620.0\n",
      "2012 년    358534.0\n",
      "2013 년    368583.0\n",
      "2014 년    355991.0\n",
      "2015 년    356575.0\n",
      "2016 년    343104.0\n",
      "2017 년      320193\n",
      "2018 년    308997.0\n",
      "2019 년    309269.0\n",
      "2020 년    296178.0\n",
      "2021 년    257969.0\n",
      "2022 년    279507.0\n",
      "Name: 0, dtype: object\n",
      "2011 년    273089.0\n",
      "2012 년    260199.0\n",
      "2013 년    265023.0\n",
      "2014 년    258863.0\n",
      "2015 년    265788.0\n",
      "2016 년    267282.0\n",
      "2017 년      253081\n",
      "2018 년    239291.0\n",
      "2019 년    235360.0\n",
      "2020 년    219684.0\n",
      "2021 년    189140.0\n",
      "2022 년    192540.0\n",
      "Name: 1, dtype: object\n"
     ]
    }
   ],
   "source": [
    "import matplotlib.pyplot as plt\n",
    "import numpy as np\n",
    "import pandas as pd\n",
    "import seaborn as sns\n",
    "plt.rc('font',family='malgun gothic')\n",
    "plt.rcParams['axes.unicode_minus']=False\n",
    "# plt.plot(df['연도'],df['전체'],color='blue', linestyle='-')\n",
    "# plt.xlabel('Year')\n",
    "# plt.ylabel('Population')\n",
    "# plt.show()\n",
    "\n",
    "print(pf.iloc[0,3:])  # 발생건수[건]\n",
    "print(pf.iloc[1,3:])  # 검거건수[건]"
   ]
  },
  {
   "cell_type": "code",
   "execution_count": 58,
   "id": "0ae080ac",
   "metadata": {},
   "outputs": [
    {
     "data": {
      "image/png": "[encoded data removed]",
      "text/plain": [
       "<Figure size 640x480 with 1 Axes>"
      ]
     },
     "metadata": {},
     "output_type": "display_data"
    }
   ],
   "source": [
    "plt.plot(pf.iloc[0,3:],pf.iloc[1,3:],color='blue', linestyle='-')\n",
    "plt.xlabel('발생건수')\n",
    "plt.ylabel('검거건수')\n",
    "plt.show()"
   ]
  },
  {
   "cell_type": "code",
   "execution_count": 59,
   "id": "55e5eaa3",
   "metadata": {},
   "outputs": [
    {
     "data": {
      "text/html": [
       "<div>\n",
       "<style scoped>\n",
       "    .dataframe tbody tr th:only-of-type {\n",
       "        vertical-align: middle;\n",
       "    }\n",
       "\n",
       "    .dataframe tbody tr th {\n",
       "        vertical-align: top;\n",
       "    }\n",
       "\n",
       "    .dataframe thead th {\n",
       "        text-align: right;\n",
       "    }\n",
       "</style>\n",
       "<table border=\"1\" class=\"dataframe\">\n",
       "  <thead>\n",
       "    <tr style=\"text-align: right;\">\n",
       "      <th></th>\n",
       "      <th>연도</th>\n",
       "      <th>남성</th>\n",
       "      <th>여성</th>\n",
       "      <th>전체</th>\n",
       "    </tr>\n",
       "  </thead>\n",
       "  <tbody>\n",
       "    <tr>\n",
       "      <th>0</th>\n",
       "      <td>2008</td>\n",
       "      <td>31.6</td>\n",
       "      <td>29.3</td>\n",
       "      <td>30.4</td>\n",
       "    </tr>\n",
       "    <tr>\n",
       "      <th>1</th>\n",
       "      <td>2009</td>\n",
       "      <td>32.0</td>\n",
       "      <td>30.3</td>\n",
       "      <td>31.1</td>\n",
       "    </tr>\n",
       "    <tr>\n",
       "      <th>2</th>\n",
       "      <td>2010</td>\n",
       "      <td>30.1</td>\n",
       "      <td>29.0</td>\n",
       "      <td>29.5</td>\n",
       "    </tr>\n",
       "    <tr>\n",
       "      <th>3</th>\n",
       "      <td>2011</td>\n",
       "      <td>30.7</td>\n",
       "      <td>30.6</td>\n",
       "      <td>30.6</td>\n",
       "    </tr>\n",
       "    <tr>\n",
       "      <th>4</th>\n",
       "      <td>2012</td>\n",
       "      <td>30.1</td>\n",
       "      <td>31.0</td>\n",
       "      <td>30.6</td>\n",
       "    </tr>\n",
       "    <tr>\n",
       "      <th>5</th>\n",
       "      <td>2013</td>\n",
       "      <td>28.4</td>\n",
       "      <td>29.0</td>\n",
       "      <td>28.7</td>\n",
       "    </tr>\n",
       "    <tr>\n",
       "      <th>6</th>\n",
       "      <td>2014</td>\n",
       "      <td>30.0</td>\n",
       "      <td>29.5</td>\n",
       "      <td>29.7</td>\n",
       "    </tr>\n",
       "    <tr>\n",
       "      <th>7</th>\n",
       "      <td>2015</td>\n",
       "      <td>30.3</td>\n",
       "      <td>30.4</td>\n",
       "      <td>30.3</td>\n",
       "    </tr>\n",
       "    <tr>\n",
       "      <th>8</th>\n",
       "      <td>2016</td>\n",
       "      <td>29.3</td>\n",
       "      <td>28.9</td>\n",
       "      <td>29.1</td>\n",
       "    </tr>\n",
       "    <tr>\n",
       "      <th>9</th>\n",
       "      <td>2017</td>\n",
       "      <td>25.8</td>\n",
       "      <td>27.7</td>\n",
       "      <td>26.8</td>\n",
       "    </tr>\n",
       "    <tr>\n",
       "      <th>10</th>\n",
       "      <td>2018</td>\n",
       "      <td>26.0</td>\n",
       "      <td>26.8</td>\n",
       "      <td>26.4</td>\n",
       "    </tr>\n",
       "    <tr>\n",
       "      <th>11</th>\n",
       "      <td>2019</td>\n",
       "      <td>23.9</td>\n",
       "      <td>27.6</td>\n",
       "      <td>25.8</td>\n",
       "    </tr>\n",
       "    <tr>\n",
       "      <th>12</th>\n",
       "      <td>2020</td>\n",
       "      <td>26.3</td>\n",
       "      <td>29.2</td>\n",
       "      <td>27.8</td>\n",
       "    </tr>\n",
       "    <tr>\n",
       "      <th>13</th>\n",
       "      <td>2021</td>\n",
       "      <td>24.5</td>\n",
       "      <td>27.9</td>\n",
       "      <td>26.3</td>\n",
       "    </tr>\n",
       "    <tr>\n",
       "      <th>14</th>\n",
       "      <td>2022</td>\n",
       "      <td>22.7</td>\n",
       "      <td>25.2</td>\n",
       "      <td>24.0</td>\n",
       "    </tr>\n",
       "  </tbody>\n",
       "</table>\n",
       "</div>"
      ],
      "text/plain": [
       "      연도    남성    여성    전체\n",
       "0   2008  31.6  29.3  30.4\n",
       "1   2009  32.0  30.3  31.1\n",
       "2   2010  30.1  29.0  29.5\n",
       "3   2011  30.7  30.6  30.6\n",
       "4   2012  30.1  31.0  30.6\n",
       "5   2013  28.4  29.0  28.7\n",
       "6   2014  30.0  29.5  29.7\n",
       "7   2015  30.3  30.4  30.3\n",
       "8   2016  29.3  28.9  29.1\n",
       "9   2017  25.8  27.7  26.8\n",
       "10  2018  26.0  26.8  26.4\n",
       "11  2019  23.9  27.6  25.8\n",
       "12  2020  26.3  29.2  27.8\n",
       "13  2021  24.5  27.9  26.3\n",
       "14  2022  22.7  25.2  24.0"
      ]
     },
     "execution_count": 59,
     "metadata": {},
     "output_type": "execute_result"
    }
   ],
   "source": [
    "# plt.plot(orange_dat[\"age\"],\n",
    "#          orange_dat[\"circumference\"], \"o\")\n",
    "fig, axes = plt.subplots(2,2,figsize =(5,5))\n",
    "# subplots(2,2 -> 개수 총 4개의 차트를 그린다. figsize는 크기를 나타낸다.\n",
    "axes[0, 0].hist(orange_dat[\"circumference\"])\n",
    "axes[0, 0].legend([\"axes1\"])\n",
    "axes[0, 1].scatter(orange_dat[\"age\"], orange_dat[\"circumference\"], s=5, c=orange_dat[\"Tree\"], cmap=\"plasma\")\n",
    "axes[1, 1].hist(orange_dat[\"circumference\"],bins = 7, color='r')"
   ]
  },
  {
   "cell_type": "code",
   "execution_count": 68,
   "id": "f1536623",
   "metadata": {
    "scrolled": true
   },
   "outputs": [
    {
     "data": {
      "image/png": "[encoded data removed]",
      "text/plain": [
       "<Figure size 640x480 with 1 Axes>"
      ]
     },
     "metadata": {},
     "output_type": "display_data"
    }
   ],
   "source": [
    "# pf.iloc[0,3:]  # 발생건수[건] \n",
    "# print(df['전체']) # 스트레스인지율 전체\n",
    "plt.scatter(pf.iloc[0,3:], df['전체'].iloc[3:])\n",
    "plt.xlabel('발생건수[건]')\n",
    "plt.ylabel('스트레스인지율 전체')\n",
    "plt.title('발생건수 vs. 스트레스인지율 전체')\n",
    "\n",
    "plt.show()"
   ]
  },
  {
   "cell_type": "code",
   "execution_count": 69,
   "id": "11e563f7",
   "metadata": {},
   "outputs": [
    {
     "name": "stdout",
     "output_type": "stream",
     "text": [
      "2011 년    358620.0\n",
      "2012 년    358534.0\n",
      "2013 년    368583.0\n",
      "2014 년    355991.0\n",
      "2015 년    356575.0\n",
      "2016 년    343104.0\n",
      "2017 년      320193\n",
      "2018 년    308997.0\n",
      "2019 년    309269.0\n",
      "2020 년    296178.0\n",
      "2021 년    257969.0\n",
      "2022 년    279507.0\n",
      "Name: 0, dtype: object\n",
      "3     30.6\n",
      "4     30.6\n",
      "5     28.7\n",
      "6     29.7\n",
      "7     30.3\n",
      "8     29.1\n",
      "9     26.8\n",
      "10    26.4\n",
      "11    25.8\n",
      "12    27.8\n",
      "13    26.3\n",
      "14    24.0\n",
      "Name: 전체, dtype: float64\n"
     ]
    }
   ],
   "source": [
    "data1 = pf.iloc[0,3:]\n",
    "data2 = df['전체'].iloc[3:]\n",
    "print(data1)\n",
    "print(data2)"
   ]
  },
  {
   "cell_type": "code",
   "execution_count": 70,
   "id": "241740a7",
   "metadata": {},
   "outputs": [],
   "source": [
    "import numpy as np\n",
    "\n",
    "# 데이터 추출\n",
    "data1 = pf.iloc[0, 3:].values\n",
    "data2 = df['전체'].iloc[3:].values"
   ]
  },
  {
   "cell_type": "code",
   "execution_count": 73,
   "id": "cd0a6ff2",
   "metadata": {},
   "outputs": [
    {
     "name": "stdout",
     "output_type": "stream",
     "text": [
      "       Data1  Data2\n",
      "0   358620.0   30.6\n",
      "1   358534.0   30.6\n",
      "2   368583.0   28.7\n",
      "3   355991.0   29.7\n",
      "4   356575.0   30.3\n",
      "5   343104.0   29.1\n",
      "6     320193   26.8\n",
      "7   308997.0   26.4\n",
      "8   309269.0   25.8\n",
      "9   296178.0   27.8\n",
      "10  257969.0   26.3\n",
      "11  279507.0   24.0\n",
      "          Data1     Data2\n",
      "Data1  1.000000  0.837937\n",
      "Data2  0.837937  1.000000\n"
     ]
    }
   ],
   "source": [
    "import pandas as pd\n",
    "import numpy as np\n",
    "\n",
    "# 두 데이터프레임을 결합\n",
    "combined_df = pd.DataFrame({'Data1': data1, 'Data2': data2})\n",
    "print(combined_df)\n",
    "# 상관 행렬 계산\n",
    "corrMatt = combined_df.corr()\n",
    "\n",
    "# 상관 행렬 출력\n",
    "print(corrMatt)"
   ]
  },
  {
   "cell_type": "code",
   "execution_count": 75,
   "id": "4b3ec5cd",
   "metadata": {},
   "outputs": [
    {
     "name": "stderr",
     "output_type": "stream",
     "text": [
      "C:\\anaconda3\\Lib\\site-packages\\seaborn\\axisgrid.py:118: UserWarning: The figure layout has changed to tight\n",
      "  self._figure.tight_layout(*args, **kwargs)\n"
     ]
    },
    {
     "data": {
      "image/png": "[encoded data removed]",
      "text/plain": [
       "<Figure size 500x500 with 6 Axes>"
      ]
     },
     "metadata": {},
     "output_type": "display_data"
    }
   ],
   "source": [
    "sns.set(style='whitegrid') # whitegrid = 배경에 하얀 선\n",
    "sns.pairplot(combined_df)\n",
    "plt.show()"
   ]
  }
 ],
 "metadata": {
  "kernelspec": {
   "display_name": "Python 3 (ipykernel)",
   "language": "python",
   "name": "python3"
  },
  "language_info": {
   "codemirror_mode": {
    "name": "ipython",
    "version": 3
   },
   "file_extension": ".py",
   "mimetype": "text/x-python",
   "name": "python",
   "nbconvert_exporter": "python",
   "pygments_lexer": "ipython3",
   "version": "3.11.5"
  }
 },
 "nbformat": 4,
 "nbformat_minor": 5
}
